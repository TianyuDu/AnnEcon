{
 "cells": [
  {
   "cell_type": "code",
   "execution_count": 6,
   "metadata": {},
   "outputs": [],
   "source": [
    "import numpy as np\n",
    "import tensorflow as tf"
   ]
  },
  {
   "cell_type": "code",
   "execution_count": 7,
   "metadata": {
    "scrolled": true
   },
   "outputs": [
    {
     "data": {
      "text/plain": [
       "tensorflow.python.layers.convolutional.Conv2D"
      ]
     },
     "execution_count": 7,
     "metadata": {},
     "output_type": "execute_result"
    }
   ],
   "source": [
    "tf.layers.Conv2D"
   ]
  },
  {
   "cell_type": "code",
   "execution_count": 35,
   "metadata": {},
   "outputs": [
    {
     "data": {
      "text/html": [
       "<div>\n",
       "<style scoped>\n",
       "    .dataframe tbody tr th:only-of-type {\n",
       "        vertical-align: middle;\n",
       "    }\n",
       "\n",
       "    .dataframe tbody tr th {\n",
       "        vertical-align: top;\n",
       "    }\n",
       "\n",
       "    .dataframe thead th {\n",
       "        text-align: right;\n",
       "    }\n",
       "</style>\n",
       "<table border=\"1\" class=\"dataframe\">\n",
       "  <thead>\n",
       "    <tr style=\"text-align: right;\">\n",
       "      <th></th>\n",
       "      <th>CPIAUCSL_PCH</th>\n",
       "      <th>UNRATE</th>\n",
       "      <th>A191RL1Q225SBEA</th>\n",
       "    </tr>\n",
       "    <tr>\n",
       "      <th>DATE</th>\n",
       "      <th></th>\n",
       "      <th></th>\n",
       "      <th></th>\n",
       "    </tr>\n",
       "  </thead>\n",
       "  <tbody>\n",
       "    <tr>\n",
       "      <th>1948-01-01</th>\n",
       "      <td>1.15335</td>\n",
       "      <td>3.4</td>\n",
       "      <td>6.0</td>\n",
       "    </tr>\n",
       "    <tr>\n",
       "      <th>1948-02-01</th>\n",
       "      <td>-0.04223</td>\n",
       "      <td>3.8</td>\n",
       "      <td>6.0</td>\n",
       "    </tr>\n",
       "    <tr>\n",
       "      <th>1948-03-01</th>\n",
       "      <td>-0.71821</td>\n",
       "      <td>4.0</td>\n",
       "      <td>6.0</td>\n",
       "    </tr>\n",
       "    <tr>\n",
       "      <th>1948-04-01</th>\n",
       "      <td>1.36170</td>\n",
       "      <td>3.9</td>\n",
       "      <td>6.7</td>\n",
       "    </tr>\n",
       "    <tr>\n",
       "      <th>1948-05-01</th>\n",
       "      <td>0.79765</td>\n",
       "      <td>3.5</td>\n",
       "      <td>6.7</td>\n",
       "    </tr>\n",
       "  </tbody>\n",
       "</table>\n",
       "</div>"
      ],
      "text/plain": [
       "            CPIAUCSL_PCH  UNRATE  A191RL1Q225SBEA\n",
       "DATE                                             \n",
       "1948-01-01       1.15335     3.4              6.0\n",
       "1948-02-01      -0.04223     3.8              6.0\n",
       "1948-03-01      -0.71821     4.0              6.0\n",
       "1948-04-01       1.36170     3.9              6.7\n",
       "1948-05-01       0.79765     3.5              6.7"
      ]
     },
     "execution_count": 35,
     "metadata": {},
     "output_type": "execute_result"
    }
   ],
   "source": [
    "# My Code\n",
    "import numpy as np\n",
    "import tensorflow as tf\n",
    "from pandas_panel import *\n",
    "# !pwd\n",
    "\n",
    "batch_size = 12\n",
    "seq_len = 12  # Number of periods Looking back in series.\n",
    "n_channels = tt.table.values.shape[1]  # Number of variables in series collection.\n",
    "channels = 1  # Grey scale.\n",
    "forecast = 1\n",
    "raw = tt.table.values\n",
    "raw.shape[0]\n",
    "tt.table.head()"
   ]
  },
  {
   "cell_type": "code",
   "execution_count": 40,
   "metadata": {},
   "outputs": [
    {
     "name": "stdout",
     "output_type": "stream",
     "text": [
      "x data shape: (840, 3)\n",
      "Y data shape: (840, 3)\n",
      "(69, 12, 3)\n",
      "(69, 12, 1)\n"
     ]
    }
   ],
   "source": [
    "break_point = (raw.shape[0] - (raw.shape[0] % seq_len))\n",
    "x_data = raw[:break_point, :]\n",
    "print(f\"x data shape: {x_data.shape}\")\n",
    "y_data = raw[1: break_point+1, :]\n",
    "print(f\"Y data shape: {y_data.shape}\")\n",
    "x_train = x_data[:-seq_len, :]\n",
    "x_test = x_data[-seq_len:, :]\n",
    "\n",
    "x_train = x_data[:-seq_len, :]\n",
    "y_train = x_train[:, 0]\n",
    "\n",
    "x_batches = x_train.reshape(-1, seq_len, n_channels)\n",
    "y_batches = y_train.reshape(-1, seq_len, 1)\n",
    "print(x_batches.shape)\n",
    "print(y_batches.shape)\n",
    "\n",
    "y_test = y_data[-seq_len:, :]\n",
    "y_test = y_test[:, 0]"
   ]
  },
  {
   "cell_type": "code",
   "execution_count": 10,
   "metadata": {},
   "outputs": [],
   "source": [
    "lstm_size = 9\n",
    "lstm_layers = 2\n",
    "batch_size = 24\n",
    "seq_len = 48\n",
    "learning_rate = 0.001\n",
    "epochs = 1000"
   ]
  },
  {
   "cell_type": "code",
   "execution_count": 43,
   "metadata": {},
   "outputs": [
    {
     "name": "stdout",
     "output_type": "stream",
     "text": [
      "(69, 12, 3)\n"
     ]
    }
   ],
   "source": [
    "print(x_batches.shape)"
   ]
  },
  {
   "cell_type": "code",
   "execution_count": 45,
   "metadata": {},
   "outputs": [],
   "source": [
    "# Setting up feeder\n",
    "inputs_ = tf.placeholder(tf.float32,\n",
    "                         [None, seq_len, n_channels],\n",
    "                        name=\"input\")\n",
    "\n",
    "output_ = tf.placeholder(tf.float32,\n",
    "                      [None, seq_len, 1],\n",
    "                      name=\"output\")\n",
    "\n",
    "keep_prob_ = tf.placeholder(tf.float32, name = 'keep')\n",
    "learning_rate_ = tf.placeholder(tf.float32, name = 'learning_rate')\n",
    "\n",
    "conv1 = tf.layers.conv1d(inputs=inputs_,\n",
    "                        filters=18,\n",
    "                        kernel_size=2,\n",
    "                        strides=1,\n",
    "                        padding=\"same\",\n",
    "                        activation=tf.nn.relu)"
   ]
  },
  {
   "cell_type": "code",
   "execution_count": 46,
   "metadata": {},
   "outputs": [
    {
     "data": {
      "text/plain": [
       "<tf.Tensor 'conv1d_2/Relu:0' shape=(?, 12, 18) dtype=float32>"
      ]
     },
     "execution_count": 46,
     "metadata": {},
     "output_type": "execute_result"
    }
   ],
   "source": [
    "conv1"
   ]
  },
  {
   "cell_type": "code",
   "execution_count": 12,
   "metadata": {},
   "outputs": [],
   "source": [
    "n_ch = 3\n",
    "# Construct the LSTM inputs and LSTM cells\n",
    "lstm_in = tf.transpose(conv1, [1, 0, 2])\n",
    "lstm_in = tf.reshape(lstm_in, [-1, n_ch])\n",
    "\n",
    "# To cells\n",
    "lstm_in = tf.layers.dense(lstm_in, lstm_size, activation=None)\n",
    "\n",
    "# Open up the tensor into a list of seq_len pieces\n",
    "lstm_in = tf.split(lstm_in, seq_len, 0)\n",
    "\n",
    "# Add LSTM layers\n",
    "lstm = tf.nn.rnn_cell.BasicLSTMCell(lstm_size)\n",
    "drop = tf.nn.rnn_cell.DropoutWrapper(lstm, output_keep_prob=keep_prob_)\n",
    "cell = tf.nn.rnn_cell.MultiRNNCell([drop] * lstm_layers)\n",
    "initial_state = cell.zero_state(batch_size, tf.float32)"
   ]
  },
  {
   "cell_type": "code",
   "execution_count": 13,
   "metadata": {},
   "outputs": [],
   "source": [
    "outputs, final_state = tf.nn.static_rnn(cell,\n",
    "                                         lstm_in,\n",
    "                                        dtype=tf.float32,\n",
    "                                        initial_state=initial_state)"
   ]
  },
  {
   "cell_type": "code",
   "execution_count": 14,
   "metadata": {
    "scrolled": true
   },
   "outputs": [
    {
     "data": {
      "text/plain": [
       "[<tf.Tensor 'rnn/rnn/multi_rnn_cell/cell_1/dropout/mul:0' shape=(24, 9) dtype=float32>,\n",
       " <tf.Tensor 'rnn/rnn/multi_rnn_cell/cell_1_1/dropout/mul:0' shape=(24, 9) dtype=float32>,\n",
       " <tf.Tensor 'rnn/rnn/multi_rnn_cell/cell_1_2/dropout/mul:0' shape=(24, 9) dtype=float32>,\n",
       " <tf.Tensor 'rnn/rnn/multi_rnn_cell/cell_1_3/dropout/mul:0' shape=(24, 9) dtype=float32>,\n",
       " <tf.Tensor 'rnn/rnn/multi_rnn_cell/cell_1_4/dropout/mul:0' shape=(24, 9) dtype=float32>,\n",
       " <tf.Tensor 'rnn/rnn/multi_rnn_cell/cell_1_5/dropout/mul:0' shape=(24, 9) dtype=float32>,\n",
       " <tf.Tensor 'rnn/rnn/multi_rnn_cell/cell_1_6/dropout/mul:0' shape=(24, 9) dtype=float32>,\n",
       " <tf.Tensor 'rnn/rnn/multi_rnn_cell/cell_1_7/dropout/mul:0' shape=(24, 9) dtype=float32>,\n",
       " <tf.Tensor 'rnn/rnn/multi_rnn_cell/cell_1_8/dropout/mul:0' shape=(24, 9) dtype=float32>,\n",
       " <tf.Tensor 'rnn/rnn/multi_rnn_cell/cell_1_9/dropout/mul:0' shape=(24, 9) dtype=float32>,\n",
       " <tf.Tensor 'rnn/rnn/multi_rnn_cell/cell_1_10/dropout/mul:0' shape=(24, 9) dtype=float32>,\n",
       " <tf.Tensor 'rnn/rnn/multi_rnn_cell/cell_1_11/dropout/mul:0' shape=(24, 9) dtype=float32>,\n",
       " <tf.Tensor 'rnn/rnn/multi_rnn_cell/cell_1_12/dropout/mul:0' shape=(24, 9) dtype=float32>,\n",
       " <tf.Tensor 'rnn/rnn/multi_rnn_cell/cell_1_13/dropout/mul:0' shape=(24, 9) dtype=float32>,\n",
       " <tf.Tensor 'rnn/rnn/multi_rnn_cell/cell_1_14/dropout/mul:0' shape=(24, 9) dtype=float32>,\n",
       " <tf.Tensor 'rnn/rnn/multi_rnn_cell/cell_1_15/dropout/mul:0' shape=(24, 9) dtype=float32>,\n",
       " <tf.Tensor 'rnn/rnn/multi_rnn_cell/cell_1_16/dropout/mul:0' shape=(24, 9) dtype=float32>,\n",
       " <tf.Tensor 'rnn/rnn/multi_rnn_cell/cell_1_17/dropout/mul:0' shape=(24, 9) dtype=float32>,\n",
       " <tf.Tensor 'rnn/rnn/multi_rnn_cell/cell_1_18/dropout/mul:0' shape=(24, 9) dtype=float32>,\n",
       " <tf.Tensor 'rnn/rnn/multi_rnn_cell/cell_1_19/dropout/mul:0' shape=(24, 9) dtype=float32>,\n",
       " <tf.Tensor 'rnn/rnn/multi_rnn_cell/cell_1_20/dropout/mul:0' shape=(24, 9) dtype=float32>,\n",
       " <tf.Tensor 'rnn/rnn/multi_rnn_cell/cell_1_21/dropout/mul:0' shape=(24, 9) dtype=float32>,\n",
       " <tf.Tensor 'rnn/rnn/multi_rnn_cell/cell_1_22/dropout/mul:0' shape=(24, 9) dtype=float32>,\n",
       " <tf.Tensor 'rnn/rnn/multi_rnn_cell/cell_1_23/dropout/mul:0' shape=(24, 9) dtype=float32>,\n",
       " <tf.Tensor 'rnn/rnn/multi_rnn_cell/cell_1_24/dropout/mul:0' shape=(24, 9) dtype=float32>,\n",
       " <tf.Tensor 'rnn/rnn/multi_rnn_cell/cell_1_25/dropout/mul:0' shape=(24, 9) dtype=float32>,\n",
       " <tf.Tensor 'rnn/rnn/multi_rnn_cell/cell_1_26/dropout/mul:0' shape=(24, 9) dtype=float32>,\n",
       " <tf.Tensor 'rnn/rnn/multi_rnn_cell/cell_1_27/dropout/mul:0' shape=(24, 9) dtype=float32>,\n",
       " <tf.Tensor 'rnn/rnn/multi_rnn_cell/cell_1_28/dropout/mul:0' shape=(24, 9) dtype=float32>,\n",
       " <tf.Tensor 'rnn/rnn/multi_rnn_cell/cell_1_29/dropout/mul:0' shape=(24, 9) dtype=float32>,\n",
       " <tf.Tensor 'rnn/rnn/multi_rnn_cell/cell_1_30/dropout/mul:0' shape=(24, 9) dtype=float32>,\n",
       " <tf.Tensor 'rnn/rnn/multi_rnn_cell/cell_1_31/dropout/mul:0' shape=(24, 9) dtype=float32>,\n",
       " <tf.Tensor 'rnn/rnn/multi_rnn_cell/cell_1_32/dropout/mul:0' shape=(24, 9) dtype=float32>,\n",
       " <tf.Tensor 'rnn/rnn/multi_rnn_cell/cell_1_33/dropout/mul:0' shape=(24, 9) dtype=float32>,\n",
       " <tf.Tensor 'rnn/rnn/multi_rnn_cell/cell_1_34/dropout/mul:0' shape=(24, 9) dtype=float32>,\n",
       " <tf.Tensor 'rnn/rnn/multi_rnn_cell/cell_1_35/dropout/mul:0' shape=(24, 9) dtype=float32>,\n",
       " <tf.Tensor 'rnn/rnn/multi_rnn_cell/cell_1_36/dropout/mul:0' shape=(24, 9) dtype=float32>,\n",
       " <tf.Tensor 'rnn/rnn/multi_rnn_cell/cell_1_37/dropout/mul:0' shape=(24, 9) dtype=float32>,\n",
       " <tf.Tensor 'rnn/rnn/multi_rnn_cell/cell_1_38/dropout/mul:0' shape=(24, 9) dtype=float32>,\n",
       " <tf.Tensor 'rnn/rnn/multi_rnn_cell/cell_1_39/dropout/mul:0' shape=(24, 9) dtype=float32>,\n",
       " <tf.Tensor 'rnn/rnn/multi_rnn_cell/cell_1_40/dropout/mul:0' shape=(24, 9) dtype=float32>,\n",
       " <tf.Tensor 'rnn/rnn/multi_rnn_cell/cell_1_41/dropout/mul:0' shape=(24, 9) dtype=float32>,\n",
       " <tf.Tensor 'rnn/rnn/multi_rnn_cell/cell_1_42/dropout/mul:0' shape=(24, 9) dtype=float32>,\n",
       " <tf.Tensor 'rnn/rnn/multi_rnn_cell/cell_1_43/dropout/mul:0' shape=(24, 9) dtype=float32>,\n",
       " <tf.Tensor 'rnn/rnn/multi_rnn_cell/cell_1_44/dropout/mul:0' shape=(24, 9) dtype=float32>,\n",
       " <tf.Tensor 'rnn/rnn/multi_rnn_cell/cell_1_45/dropout/mul:0' shape=(24, 9) dtype=float32>,\n",
       " <tf.Tensor 'rnn/rnn/multi_rnn_cell/cell_1_46/dropout/mul:0' shape=(24, 9) dtype=float32>,\n",
       " <tf.Tensor 'rnn/rnn/multi_rnn_cell/cell_1_47/dropout/mul:0' shape=(24, 9) dtype=float32>]"
      ]
     },
     "execution_count": 14,
     "metadata": {},
     "output_type": "execute_result"
    }
   ],
   "source": [
    "outputs"
   ]
  },
  {
   "cell_type": "code",
   "execution_count": 42,
   "metadata": {},
   "outputs": [],
   "source": [
    "with tf.Session() as sess:\n",
    "    sess.run(tf.global_variables_initializer())\n",
    "    iteration = 1\n",
    "    for e in range(epochs):\n",
    "        state = sess.run(initial_state)\n",
    "        "
   ]
  },
  {
   "cell_type": "code",
   "execution_count": 41,
   "metadata": {
    "scrolled": true
   },
   "outputs": [
    {
     "data": {
      "text/plain": [
       "(828, 3)"
      ]
     },
     "execution_count": 41,
     "metadata": {},
     "output_type": "execute_result"
    }
   ],
   "source": [
    "x_train.shape"
   ]
  },
  {
   "cell_type": "code",
   "execution_count": null,
   "metadata": {},
   "outputs": [],
   "source": []
  }
 ],
 "metadata": {
  "kernelspec": {
   "display_name": "Python 3",
   "language": "python",
   "name": "python3"
  },
  "language_info": {
   "codemirror_mode": {
    "name": "ipython",
    "version": 3
   },
   "file_extension": ".py",
   "mimetype": "text/x-python",
   "name": "python",
   "nbconvert_exporter": "python",
   "pygments_lexer": "ipython3",
   "version": "3.6.5"
  }
 },
 "nbformat": 4,
 "nbformat_minor": 2
}
